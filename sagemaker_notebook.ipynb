{
 "cells": [
  {
   "cell_type": "code",
   "execution_count": 1,
   "id": "e49b4b0f",
   "metadata": {
    "vscode": {
     "languageId": "plaintext"
    }
   },
   "outputs": [
    {
     "name": "stdout",
     "output_type": "stream",
     "text": [
      "Collecting xgboost==1.7.6 (from -r requirements.txt (line 1))\n",
      "  Downloading xgboost-1.7.6-py3-none-manylinux2014_x86_64.whl.metadata (1.9 kB)\n",
      "Requirement already satisfied: pandas==1.5.3 in /home/ec2-user/anaconda3/envs/python3/lib/python3.10/site-packages (from -r requirements.txt (line 2)) (1.5.3)\n",
      "Collecting scikit-learn==1.2.2 (from -r requirements.txt (line 3))\n",
      "  Downloading scikit_learn-1.2.2-cp310-cp310-manylinux_2_17_x86_64.manylinux2014_x86_64.whl.metadata (11 kB)\n",
      "Collecting joblib==1.3.2 (from -r requirements.txt (line 4))\n",
      "  Downloading joblib-1.3.2-py3-none-any.whl.metadata (5.4 kB)\n",
      "Collecting requests==2.31.0 (from -r requirements.txt (line 5))\n",
      "  Downloading requests-2.31.0-py3-none-any.whl.metadata (4.6 kB)\n",
      "Requirement already satisfied: numpy in /home/ec2-user/anaconda3/envs/python3/lib/python3.10/site-packages (from xgboost==1.7.6->-r requirements.txt (line 1)) (1.26.4)\n",
      "Requirement already satisfied: scipy in /home/ec2-user/anaconda3/envs/python3/lib/python3.10/site-packages (from xgboost==1.7.6->-r requirements.txt (line 1)) (1.15.2)\n",
      "Requirement already satisfied: python-dateutil>=2.8.1 in /home/ec2-user/anaconda3/envs/python3/lib/python3.10/site-packages (from pandas==1.5.3->-r requirements.txt (line 2)) (2.9.0.post0)\n",
      "Requirement already satisfied: pytz>=2020.1 in /home/ec2-user/anaconda3/envs/python3/lib/python3.10/site-packages (from pandas==1.5.3->-r requirements.txt (line 2)) (2025.2)\n",
      "Requirement already satisfied: threadpoolctl>=2.0.0 in /home/ec2-user/anaconda3/envs/python3/lib/python3.10/site-packages (from scikit-learn==1.2.2->-r requirements.txt (line 3)) (3.6.0)\n",
      "Requirement already satisfied: charset-normalizer<4,>=2 in /home/ec2-user/anaconda3/envs/python3/lib/python3.10/site-packages (from requests==2.31.0->-r requirements.txt (line 5)) (3.4.1)\n",
      "Requirement already satisfied: idna<4,>=2.5 in /home/ec2-user/anaconda3/envs/python3/lib/python3.10/site-packages (from requests==2.31.0->-r requirements.txt (line 5)) (3.10)\n",
      "Requirement already satisfied: urllib3<3,>=1.21.1 in /home/ec2-user/anaconda3/envs/python3/lib/python3.10/site-packages (from requests==2.31.0->-r requirements.txt (line 5)) (2.4.0)\n",
      "Requirement already satisfied: certifi>=2017.4.17 in /home/ec2-user/anaconda3/envs/python3/lib/python3.10/site-packages (from requests==2.31.0->-r requirements.txt (line 5)) (2025.1.31)\n",
      "Requirement already satisfied: six>=1.5 in /home/ec2-user/anaconda3/envs/python3/lib/python3.10/site-packages (from python-dateutil>=2.8.1->pandas==1.5.3->-r requirements.txt (line 2)) (1.17.0)\n",
      "Downloading xgboost-1.7.6-py3-none-manylinux2014_x86_64.whl (200.3 MB)\n",
      "\u001b[2K   \u001b[90m━━━━━━━━━━━━━━━━━━━━━━━━━━━━━━━━━━━━━━━━\u001b[0m \u001b[32m200.3/200.3 MB\u001b[0m \u001b[31m46.9 MB/s\u001b[0m eta \u001b[36m0:00:00\u001b[0m00:01\u001b[0m00:01\u001b[0m\n",
      "\u001b[?25hDownloading scikit_learn-1.2.2-cp310-cp310-manylinux_2_17_x86_64.manylinux2014_x86_64.whl (9.6 MB)\n",
      "\u001b[2K   \u001b[90m━━━━━━━━━━━━━━━━━━━━━━━━━━━━━━━━━━━━━━━━\u001b[0m \u001b[32m9.6/9.6 MB\u001b[0m \u001b[31m116.5 MB/s\u001b[0m eta \u001b[36m0:00:00\u001b[0m\n",
      "\u001b[?25hDownloading joblib-1.3.2-py3-none-any.whl (302 kB)\n",
      "Downloading requests-2.31.0-py3-none-any.whl (62 kB)\n",
      "Installing collected packages: requests, joblib, xgboost, scikit-learn\n",
      "  Attempting uninstall: requests\n",
      "    Found existing installation: requests 2.32.3\n",
      "    Uninstalling requests-2.32.3:\n",
      "      Successfully uninstalled requests-2.32.3\n",
      "  Attempting uninstall: joblib\n",
      "    Found existing installation: joblib 1.4.2\n",
      "    Uninstalling joblib-1.4.2:\n",
      "      Successfully uninstalled joblib-1.4.2\n",
      "  Attempting uninstall: scikit-learn\n",
      "    Found existing installation: scikit-learn 1.6.1\n",
      "    Uninstalling scikit-learn-1.6.1:\n",
      "      Successfully uninstalled scikit-learn-1.6.1\n",
      "\u001b[31mERROR: pip's dependency resolver does not currently take into account all the packages that are installed. This behaviour is the source of the following dependency conflicts.\n",
      "sphinx 8.1.3 requires docutils<0.22,>=0.20, but you have docutils 0.19 which is incompatible.\u001b[0m\u001b[31m\n",
      "\u001b[0mSuccessfully installed joblib-1.3.2 requests-2.31.0 scikit-learn-1.2.2 xgboost-1.7.6\n"
     ]
    }
   ],
   "source": [
    "!pip install -r requirements.txt"
   ]
  },
  {
   "cell_type": "code",
   "execution_count": 39,
   "id": "b88fc8ee",
   "metadata": {
    "vscode": {
     "languageId": "plaintext"
    }
   },
   "outputs": [
    {
     "name": "stdout",
     "output_type": "stream",
     "text": [
      "Fitting 5 folds for each of 324 candidates, totalling 1620 fits\n",
      "Mejores hiperparámetros encontrados: {'colsample_bytree': 0.7, 'learning_rate': 0.1, 'max_depth': 3, 'n_estimators': 200, 'subsample': 0.8}\n",
      "Modelo entrenado y guardado exitosamente.\n",
      "Error Absoluto Medio (MAE): 4.215644754316562\n",
      "Raíz del Error Cuadrático Medio (RMSE): 5.380471563529822\n",
      "Coeficiente de Determinación (R²): 0.46803856407515254\n",
      "MAE promedio con validación cruzada: 4.152095791744229\n"
     ]
    }
   ],
   "source": [
    "!python src/train.py"
   ]
  },
  {
   "cell_type": "code",
   "execution_count": 30,
   "id": "a5041d09-963c-4862-b731-673015a43132",
   "metadata": {},
   "outputs": [
    {
     "name": "stdout",
     "output_type": "stream",
     "text": [
      "CSV generado como 'dataset_sintetico.csv'\n"
     ]
    }
   ],
   "source": [
    "import pandas as pd\n",
    "import numpy as np\n",
    "\n",
    "np.random.seed(42)\n",
    "\n",
    "# Productos base obligatorios\n",
    "base_productos = [\n",
    "    \"Abrigo\", \"Botas de agua\", \"Bufanda\", \"Calcetines\", \"Camiseta\", \"Chandal\", \"Chaqueta\",\n",
    "    \"Frutas\", \"Gafas de sol\", \"Gorra\", \"Guantes\", \"Impermeable\", \"Leche\", \"Pan\", \"Pantalon\",\n",
    "    \"Pijama\", \"Sandalias\", \"Shorts\", \"Sombrilla\", \"Sudadera\", \"Traje de Agua\", \"Zapatos deportivos\"\n",
    "]\n",
    "\n",
    "# Asignar meses a estaciones\n",
    "estaciones_meses = {\n",
    "    \"Primavera\": [9, 10, 11],\n",
    "    \"Verano\": [12, 1, 2],\n",
    "    \"Otoño\": [3, 4, 5],\n",
    "    \"Invierno\": [6, 7, 8],\n",
    "}\n",
    "\n",
    "# Generar fechas aleatorias\n",
    "fechas = list(pd.date_range(start=\"2020-01-01\", end=\"2025-05-01\", freq='D'))\n",
    "np.random.shuffle(fechas)\n",
    "\n",
    "# Función para generar una fila de datos\n",
    "def generar_fila(fecha):\n",
    "    producto = np.random.choice(base_productos)\n",
    "    mes = fecha.month\n",
    "    dia_semana = fecha.weekday()\n",
    "    es_fin_semana = int(dia_semana >= 5)\n",
    "    estacion = next(est for est, meses in estaciones_meses.items() if mes in meses)\n",
    "\n",
    "    temp = {\n",
    "        \"Verano\": np.random.normal(30, 5),\n",
    "        \"Primavera\": np.random.normal(20, 4),\n",
    "        \"Otoño\": np.random.normal(15, 4),\n",
    "        \"Invierno\": np.random.normal(5, 5),\n",
    "    }[estacion]\n",
    "\n",
    "    lluvia = max(0, np.random.normal({\n",
    "        \"Verano\": 0.5,\n",
    "        \"Primavera\": 2,\n",
    "        \"Otoño\": 3,\n",
    "        \"Invierno\": 4\n",
    "    }[estacion], 1.5))\n",
    "\n",
    "    stock = max(1, int(np.random.normal(20, 10)))\n",
    "\n",
    "    # Regla para calcular ventas basada en correlaciones\n",
    "    ventas_base = stock * np.random.uniform(0.2, 0.8)\n",
    "    if estacion == \"Invierno\" and producto in [\"Abrigo\", \"Guantes\", \"Bufanda\", \"Impermeable\", \"Traje de Agua\"]:\n",
    "        ventas_base += np.random.uniform(5, 15)\n",
    "    if estacion == \"Verano\" and producto in [\"Gafas de sol\", \"Sombrilla\", \"Sandalias\", \"Shorts\"]:\n",
    "        ventas_base += np.random.uniform(5, 15)\n",
    "    if producto in [\"Sandalias\", \"Shorts\"]:\n",
    "        ventas_base -= lluvia * 0.5\n",
    "    if producto in [\"Botas de agua\", \"Impermeable\"]:\n",
    "        ventas_base += lluvia * 0.7\n",
    "    if es_fin_semana and producto in [\"Pan\", \"Leche\", \"Frutas\"]:\n",
    "        ventas_base += 5\n",
    "\n",
    "    ventas = max(0, int(np.random.normal(ventas_base, 3)))\n",
    "\n",
    "    return {\n",
    "        \"fecha\": fecha.strftime(\"%Y-%m-%d\"),\n",
    "        \"producto\": producto,\n",
    "        \"stock\": stock,\n",
    "        \"temp\": round(temp, 2),\n",
    "        \"lluvia\": round(lluvia, 2),\n",
    "        \"mes\": mes,\n",
    "        \"dia_semana\": dia_semana,\n",
    "        \"es_fin_semana\": es_fin_semana,\n",
    "        \"estacion\": estacion,\n",
    "        \"ventas\": ventas\n",
    "    }\n",
    "\n",
    "# Generar dataset\n",
    "datos = [generar_fila(f) for f in fechas[:15000]]\n",
    "df = pd.DataFrame(datos)\n",
    "\n",
    "# Guardar en CSV\n",
    "df.to_csv(\"dataset_sintetico.csv\", index=False)\n",
    "print(\"CSV generado como 'dataset_sintetico.csv'\")\n"
   ]
  },
  {
   "cell_type": "code",
   "execution_count": null,
   "id": "b01b58c7-1886-47c7-9af3-178fce3c2642",
   "metadata": {},
   "outputs": [],
   "source": []
  }
 ],
 "metadata": {
  "kernelspec": {
   "display_name": "conda_python3",
   "language": "python",
   "name": "conda_python3"
  },
  "language_info": {
   "codemirror_mode": {
    "name": "ipython",
    "version": 3
   },
   "file_extension": ".py",
   "mimetype": "text/x-python",
   "name": "python",
   "nbconvert_exporter": "python",
   "pygments_lexer": "ipython3",
   "version": "3.10.17"
  }
 },
 "nbformat": 4,
 "nbformat_minor": 5
}
